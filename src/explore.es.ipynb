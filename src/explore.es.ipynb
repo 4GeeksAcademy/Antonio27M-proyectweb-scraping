{
    "cells": [
        {
            "cell_type": "markdown",
            "metadata": {},
            "source": [
                "# Explora aquí\n",
                "\n",
                "Se recomienda utilizar este cuaderno con fines de exploración."
            ]
        },
        {
            "cell_type": "code",
            "execution_count": null,
            "metadata": {},
            "outputs": [],
            "source": [
                "import os\n",
                "from bs4 import BeautifulSoup\n",
                "import requests\n",
                "import time\n",
                "import sqlite3\n",
                "import matplotlib.pyplot as plt\n",
                "import seaborn as sns\n",
                "\n",
                " # Paso 2 Descargar el HTML\n",
                "url = \"https://en.wikipedia.org/wiki/List_of_Spotify_streaming_records\"\n",
                "response = requests.get(url)\n",
                "# Verificar la respuesta\n",
                "print(\"Estado:\", response.status_code)\n",
                "\n",
                "# Paso 3: Transforma el HTML al Extraer las tablas con pandas\n",
                "html = io.StringIO(response.text)\n",
                "tables = pd.read_html(html)\n",
                "print(f\"Se encontraron {len(tables)} tablas.\")\n",
                "\n",
                "#Paso 4: Procesar el DataFrame\n",
                "# Limpieza de datos\n",
                "\n",
                "df.columns = [\"Rank\", \"Song\", \"Artist\", \"Streams (billions)\", \"Date released\", \"Reference\"]\n",
                "\n",
                "# Se eliminan notas entre corchetes\n",
                "df[\"Song\"] = df[\"Song\"].str.replace(r\"\\[.*?\\]\", \"\", regex=True)\n",
                "df[\"Artist\"] = df[\"Artist\"].str.replace(r\"\\[.*?\\]\", \"\", regex=True)\n",
                "\n",
                "df = df[df[\"Streams (billions)\"].astype(str).str.contains(r\"^\\d+(?:\\.\\d+)?$\", na=False)].copy()\n",
                "\n",
                "# Se convierten Streams a números flotantes\n",
                "df[\"Streams (billions)\"] = df[\"Streams (billions)\"].astype(float)\n",
                "\n",
                "# Se convierten fechas a datetime\n",
                "df[\"Date released\"] = pd.to_datetime(df[\"Date released\"], errors=\"coerce\")\n",
                "\n",
                "df\n",
                "\n",
                "#Paso 5: Se almacenan los datos en sqlite\n",
                "\n",
                "# Create the database\n",
                "conn = sqlite3.connect(\"spotify_top_songs.db\")\n",
                "# Create table in SQLite\n",
                "df.to_sql(\"most_streamed\", conn, if_exists=\"replace\", index=False)\n",
                "cursor = conn.cursor()\n",
                "\n",
                "cursor.execute(\"SELECT COUNT(*) FROM most_streamed\")\n",
                "print(\"Rows inserted:\", cursor.fetchone()[0])\n",
                "\n",
                "conn.commit()\n",
                "conn.close()\n",
                "\n",
                "#Paso 6: Visualizar los datos\n",
                "\n",
                "# Gráfico 1: Las 10 canciones más reproducidas\n",
                "top10 = df.nlargest(10, \"Streams (billions)\")\n",
                "plt.figure(figsize=(12, 6))\n",
                "sns.barplot(data=top10, x=\"Streams (billions)\", y=\"Song\", hue=\"Song\", palette=\"viridis\", legend=False)\n",
                "plt.title(\"Las 10 canciones más reproducidas en Spotify\")\n",
                "plt.xlabel(\"Reproducciones (en miles de millones)\")\n",
                "plt.ylabel(\"Canción\")\n",
                "plt.tight_layout()\n",
                "plt.show()"
            ]
        },
        {
            "cell_type": "code",
            "execution_count": null,
            "metadata": {},
            "outputs": [],
            "source": []
        },
        {
            "cell_type": "code",
            "execution_count": null,
            "metadata": {},
            "outputs": [],
            "source": []
        },
        {
            "cell_type": "code",
            "execution_count": null,
            "metadata": {},
            "outputs": [],
            "source": []
        }
    ],
    "metadata": {
        "kernelspec": {
            "display_name": "Python 3",
            "language": "python",
            "name": "python3"
        },
        "language_info": {
            "codemirror_mode": {
                "name": "ipython",
                "version": 3
            },
            "file_extension": ".py",
            "mimetype": "text/x-python",
            "name": "python",
            "nbconvert_exporter": "python",
            "pygments_lexer": "ipython3",
            "version": "3.11.4"
        },
        "orig_nbformat": 4
    },
    "nbformat": 4,
    "nbformat_minor": 2
}
