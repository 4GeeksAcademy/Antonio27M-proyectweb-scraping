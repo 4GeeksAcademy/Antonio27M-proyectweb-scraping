{
    "cells": [
        {
            "cell_type": "markdown",
            "metadata": {},
            "source": [
                "# Explora aquí\n",
                "\n",
                "Se recomienda utilizar este cuaderno con fines de exploración."
            ]
        },
        {
            "cell_type": "code",
            "execution_count": null,
            "metadata": {},
            "outputs": [],
            "source": [
                "#pip install pandas requests lxml"
            ]
        },
        {
            "cell_type": "code",
            "execution_count": null,
            "metadata": {},
            "outputs": [],
            "source": [
                "import os\n",
                "from bs4 import BeautifulSoup\n",
                "import requests\n",
                "import time\n",
                "import sqlite3\n",
                "import matplotlib.pyplot as plt\n",
                "import seaborn as sns\n",
                "import pandas as pd\n"
            ]
        },
        {
            "cell_type": "code",
            "execution_count": 3,
            "metadata": {},
            "outputs": [
                {
                    "data": {
                        "text/plain": [
                            "200"
                        ]
                    },
                    "execution_count": 3,
                    "metadata": {},
                    "output_type": "execute_result"
                }
            ],
            "source": [
                "url = 'https://www.trendingpc.es/pc-gaming/filtro/serie_graficas/geforce-rtx-3050'\n",
                "request_url = requests.get(url)\n",
                "request_url.status_code"
            ]
        },
        {
            "cell_type": "code",
            "execution_count": null,
            "metadata": {},
            "outputs": [
                {
                    "data": {
                        "text/html": [
                            "<div>\n",
                            "<style scoped>\n",
                            "    .dataframe tbody tr th:only-of-type {\n",
                            "        vertical-align: middle;\n",
                            "    }\n",
                            "\n",
                            "    .dataframe tbody tr th {\n",
                            "        vertical-align: top;\n",
                            "    }\n",
                            "\n",
                            "    .dataframe thead th {\n",
                            "        text-align: right;\n",
                            "    }\n",
                            "</style>\n",
                            "<table border=\"1\" class=\"dataframe\">\n",
                            "  <thead>\n",
                            "    <tr style=\"text-align: right;\">\n",
                            "      <th></th>\n",
                            "      <th>name</th>\n",
                            "      <th>price</th>\n",
                            "    </tr>\n",
                            "  </thead>\n",
                            "  <tbody>\n",
                            "    <tr>\n",
                            "      <th>0</th>\n",
                            "      <td>PC Gaming AMD RYZEN 5 8400F - RTX 3050 6gb - O...</td>\n",
                            "      <td>809.0</td>\n",
                            "    </tr>\n",
                            "    <tr>\n",
                            "      <th>1</th>\n",
                            "      <td>Pack Gaming - Intel Core I5 14400F - RTX 3050 ...</td>\n",
                            "      <td>919.0</td>\n",
                            "    </tr>\n",
                            "    <tr>\n",
                            "      <th>2</th>\n",
                            "      <td>PC Gaming Intel Core I5 14400F - RTX 3050 6gb ...</td>\n",
                            "      <td>809.0</td>\n",
                            "    </tr>\n",
                            "    <tr>\n",
                            "      <th>3</th>\n",
                            "      <td>PC Gaming Intel Core I5 12400F - NVIDIA RTX 30...</td>\n",
                            "      <td>759.0</td>\n",
                            "    </tr>\n",
                            "  </tbody>\n",
                            "</table>\n",
                            "</div>"
                        ],
                        "text/plain": [
                            "                                                name  price\n",
                            "0  PC Gaming AMD RYZEN 5 8400F - RTX 3050 6gb - O...  809.0\n",
                            "1  Pack Gaming - Intel Core I5 14400F - RTX 3050 ...  919.0\n",
                            "2  PC Gaming Intel Core I5 14400F - RTX 3050 6gb ...  809.0\n",
                            "3  PC Gaming Intel Core I5 12400F - NVIDIA RTX 30...  759.0"
                        ]
                    },
                    "execution_count": 9,
                    "metadata": {},
                    "output_type": "execute_result"
                }
            ],
            "source": [
                "html_text_cg = BeautifulSoup(request_url.text, 'html')\n",
                "products = html_text_cg.find_all('strong', class_='product name product-item-name')\n",
                "prices = html_text_cg.find_all('span', class_='price')\n"
            ]
        },
        {
            "cell_type": "code",
            "execution_count": 10,
            "metadata": {},
            "outputs": [
                {
                    "data": {
                        "text/html": [
                            "<div>\n",
                            "<style scoped>\n",
                            "    .dataframe tbody tr th:only-of-type {\n",
                            "        vertical-align: middle;\n",
                            "    }\n",
                            "\n",
                            "    .dataframe tbody tr th {\n",
                            "        vertical-align: top;\n",
                            "    }\n",
                            "\n",
                            "    .dataframe thead th {\n",
                            "        text-align: right;\n",
                            "    }\n",
                            "</style>\n",
                            "<table border=\"1\" class=\"dataframe\">\n",
                            "  <thead>\n",
                            "    <tr style=\"text-align: right;\">\n",
                            "      <th></th>\n",
                            "      <th>name</th>\n",
                            "      <th>price</th>\n",
                            "    </tr>\n",
                            "  </thead>\n",
                            "  <tbody>\n",
                            "    <tr>\n",
                            "      <th>0</th>\n",
                            "      <td>PC Gaming AMD RYZEN 5 8400F - RTX 3050 6gb - O...</td>\n",
                            "      <td>809.0</td>\n",
                            "    </tr>\n",
                            "    <tr>\n",
                            "      <th>1</th>\n",
                            "      <td>Pack Gaming - Intel Core I5 14400F - RTX 3050 ...</td>\n",
                            "      <td>919.0</td>\n",
                            "    </tr>\n",
                            "    <tr>\n",
                            "      <th>2</th>\n",
                            "      <td>PC Gaming Intel Core I5 14400F - RTX 3050 6gb ...</td>\n",
                            "      <td>809.0</td>\n",
                            "    </tr>\n",
                            "    <tr>\n",
                            "      <th>3</th>\n",
                            "      <td>PC Gaming Intel Core I5 12400F - NVIDIA RTX 30...</td>\n",
                            "      <td>759.0</td>\n",
                            "    </tr>\n",
                            "  </tbody>\n",
                            "</table>\n",
                            "</div>"
                        ],
                        "text/plain": [
                            "                                                name  price\n",
                            "0  PC Gaming AMD RYZEN 5 8400F - RTX 3050 6gb - O...  809.0\n",
                            "1  Pack Gaming - Intel Core I5 14400F - RTX 3050 ...  919.0\n",
                            "2  PC Gaming Intel Core I5 14400F - RTX 3050 6gb ...  809.0\n",
                            "3  PC Gaming Intel Core I5 12400F - NVIDIA RTX 30...  759.0"
                        ]
                    },
                    "execution_count": 10,
                    "metadata": {},
                    "output_type": "execute_result"
                }
            ],
            "source": [
                "\n",
                "products_price = []\n",
                "products_name = []\n",
                "\n",
                "for price in prices:\n",
                "    signal = price.text\n",
                "    result = float(signal.replace('€', '').replace(',', '.').strip())\n",
                "    products_price.append(result)\n",
                "\n",
                "for song in products:\n",
                "    products_name.append(song.text)\n",
                "\n",
                "dicc_song = {'name': products_name,\n",
                "             'price': products_price}\n",
                "\n",
                "df = pd.DataFrame(dicc_song)\n",
                "df"
            ]
        }
    ],
    "metadata": {
        "kernelspec": {
            "display_name": "Python 3",
            "language": "python",
            "name": "python3"
        },
        "language_info": {
            "codemirror_mode": {
                "name": "ipython",
                "version": 3
            },
            "file_extension": ".py",
            "mimetype": "text/x-python",
            "name": "python",
            "nbconvert_exporter": "python",
            "pygments_lexer": "ipython3",
            "version": "3.11.4"
        },
        "orig_nbformat": 4
    },
    "nbformat": 4,
    "nbformat_minor": 2
}
